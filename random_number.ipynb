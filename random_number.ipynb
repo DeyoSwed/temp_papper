{
 "cells": [
  {
   "cell_type": "code",
   "execution_count": 1,
   "metadata": {},
   "outputs": [],
   "source": [
    "import random\n",
    "\n",
    "class RandomNumber():\n",
    "    \"\"\"Add amount of times you would generate a random number. \n",
    "    Add the starting range(minrange) and ending range(maxrange) V4\"\"\"\n",
    "    def number_generator(amount = int,minrange = int,maxrange = int):\n",
    "        count = 1\n",
    "        while count <= amount:\n",
    "            num = random.randint(minrange,maxrange)\n",
    "            print(f\"Attempt {count} att randomly generating a number between: {minrange}-{maxrange} result: {num}\")\n",
    "            count += 1        "
   ]
  },
  {
   "cell_type": "code",
   "execution_count": 2,
   "metadata": {},
   "outputs": [
    {
     "name": "stdout",
     "output_type": "stream",
     "text": [
      "Attempt 1 att randomly generating a number between: 20-50 result: 20\n",
      "Attempt 2 att randomly generating a number between: 20-50 result: 34\n",
      "Attempt 3 att randomly generating a number between: 20-50 result: 21\n"
     ]
    }
   ],
   "source": [
    "RandomNumber.number_generator(3,20,50)"
   ]
  }
 ],
 "metadata": {
  "kernelspec": {
   "display_name": "Python 3.9.7 ('base')",
   "language": "python",
   "name": "python3"
  },
  "language_info": {
   "codemirror_mode": {
    "name": "ipython",
    "version": 3
   },
   "file_extension": ".py",
   "mimetype": "text/x-python",
   "name": "python",
   "nbconvert_exporter": "python",
   "pygments_lexer": "ipython3",
   "version": "3.9.7"
  },
  "orig_nbformat": 4,
  "vscode": {
   "interpreter": {
    "hash": "fd5f0602b361fcd80b6e43c9db32d5ff96b182a40640908c77b502a93aa9387e"
   }
  }
 },
 "nbformat": 4,
 "nbformat_minor": 2
}
